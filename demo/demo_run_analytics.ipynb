{
 "cells": [
  {
   "cell_type": "markdown",
   "metadata": {
    "collapsed": true
   },
   "source": [
    "# Import packages and add function files to system path"
   ]
  },
  {
   "cell_type": "code",
   "execution_count": 1,
   "metadata": {
    "collapsed": true
   },
   "outputs": [],
   "source": [
    "import sys, os\n",
    "import pandas as pd\n",
    "sys.path.append(os.path.dirname(os.path.dirname(os.path.abspath('classifiers'))))"
   ]
  },
  {
   "cell_type": "markdown",
   "metadata": {},
   "source": [
    "# Specify constants"
   ]
  },
  {
   "cell_type": "code",
   "execution_count": 2,
   "metadata": {
    "collapsed": true
   },
   "outputs": [],
   "source": [
    "# Set file path to raw accelerometer data (.CSV file, unit=G's, headers = ['ts','x','y','z'])\n",
    "raw_data_filepath = 'sample_wrist_accelerometer_data.csv'\n",
    "# Specify raw data sampling rate (float)\n",
    "raw_data_sampling_rate = 100."
   ]
  },
  {
   "cell_type": "markdown",
   "metadata": {},
   "source": [
    "# Load Raw Data"
   ]
  },
  {
   "cell_type": "code",
   "execution_count": 9,
   "metadata": {
    "scrolled": false
   },
   "outputs": [
    {
     "data": {
      "image/png": "[encoded data removed]",
      "text/plain": [
       "<Figure size 432x288 with 1 Axes>"
      ]
     },
     "metadata": {},
     "output_type": "display_data"
    }
   ],
   "source": [
    "# Load raw data into Pandas DataFrame\n",
    "raw_data_df = pd.read_csv(raw_data_filepath, nrows=raw_data_sampling_rate*120) # Running code on 1 minute of data for demo purposes\n",
    "raw_data_df.head()\n",
    "\n",
    "# Plot data\n",
    "from matplotlib import pyplot as plt\n",
    "raw_data_df.plot()\n",
    "plt.show()"
   ]
  },
  {
   "cell_type": "markdown",
   "metadata": {},
   "source": [
    "# Gait ML Model"
   ]
  },
  {
   "cell_type": "markdown",
   "metadata": {},
   "source": [
    "## Extract features for gait model"
   ]
  },
  {
   "cell_type": "code",
   "execution_count": 10,
   "metadata": {},
   "outputs": [
    {
     "data": {
      "text/html": [
       "<div>\n",
       "<style scoped>\n",
       "    .dataframe tbody tr th:only-of-type {\n",
       "        vertical-align: middle;\n",
       "    }\n",
       "\n",
       "    .dataframe tbody tr th {\n",
       "        vertical-align: top;\n",
       "    }\n",
       "\n",
       "    .dataframe thead th {\n",
       "        text-align: right;\n",
       "    }\n",
       "</style>\n",
       "<table border=\"1\" class=\"dataframe\">\n",
       "  <thead>\n",
       "    <tr style=\"text-align: right;\">\n",
       "      <th></th>\n",
       "      <th>x_bp_filt_[0.25, 3.0]_signal_entropy</th>\n",
       "      <th>x_bp_filt_[0.25, 3.0]_y_bp_filt_[0.25, 3.0]_corr_coef</th>\n",
       "      <th>x_bp_filt_[0.25, 3.0]_z_bp_filt_[0.25, 3.0]_corr_coef</th>\n",
       "      <th>y_bp_filt_[0.25, 3.0]_z_bp_filt_[0.25, 3.0]_corr_coef</th>\n",
       "      <th>x_bp_filt_[0.25, 3.0]_rms</th>\n",
       "      <th>y_bp_filt_[0.25, 3.0]_rms</th>\n",
       "      <th>z_bp_filt_[0.25, 3.0]_rms</th>\n",
       "      <th>x_bp_filt_[0.25, 3.0]_range</th>\n",
       "      <th>y_bp_filt_[0.25, 3.0]_range</th>\n",
       "      <th>z_bp_filt_[0.25, 3.0]_range</th>\n",
       "      <th>...</th>\n",
       "      <th>y_bp_filt_[0.25, 3.0]_spectral_flatness</th>\n",
       "      <th>y_bp_filt_[0.25, 3.0]_spectral_entropy</th>\n",
       "      <th>z_bp_filt_[0.25, 3.0]_dom_freq_value</th>\n",
       "      <th>z_bp_filt_[0.25, 3.0]_dom_freq_magnitude</th>\n",
       "      <th>z_bp_filt_[0.25, 3.0]_spectral_flatness</th>\n",
       "      <th>z_bp_filt_[0.25, 3.0]_spectral_entropy</th>\n",
       "      <th>PC1_[0.25, 3.0]_dom_freq_value</th>\n",
       "      <th>x_bp_filt_[0.25, 3.0]_mean_cross_rate</th>\n",
       "      <th>y_bp_filt_[0.25, 3.0]_mean_cross_rate</th>\n",
       "      <th>z_bp_filt_[0.25, 3.0]_mean_cross_rate</th>\n",
       "    </tr>\n",
       "  </thead>\n",
       "  <tbody>\n",
       "    <tr>\n",
       "      <th>0</th>\n",
       "      <td>2.741457</td>\n",
       "      <td>0.011239</td>\n",
       "      <td>0.466415</td>\n",
       "      <td>0.075455</td>\n",
       "      <td>0.141720</td>\n",
       "      <td>0.100563</td>\n",
       "      <td>0.256357</td>\n",
       "      <td>0.593037</td>\n",
       "      <td>0.487984</td>\n",
       "      <td>0.984747</td>\n",
       "      <td>...</td>\n",
       "      <td>-11.406831</td>\n",
       "      <td>0.570105</td>\n",
       "      <td>0.390625</td>\n",
       "      <td>0.354234</td>\n",
       "      <td>-14.098914</td>\n",
       "      <td>0.502229</td>\n",
       "      <td>0.390625</td>\n",
       "      <td>0.013333</td>\n",
       "      <td>0.046667</td>\n",
       "      <td>0.006667</td>\n",
       "    </tr>\n",
       "    <tr>\n",
       "      <th>1</th>\n",
       "      <td>1.477732</td>\n",
       "      <td>0.180066</td>\n",
       "      <td>0.361380</td>\n",
       "      <td>0.515227</td>\n",
       "      <td>0.310504</td>\n",
       "      <td>0.221593</td>\n",
       "      <td>0.248662</td>\n",
       "      <td>1.146375</td>\n",
       "      <td>1.259789</td>\n",
       "      <td>1.174448</td>\n",
       "      <td>...</td>\n",
       "      <td>-11.579113</td>\n",
       "      <td>0.676098</td>\n",
       "      <td>0.195312</td>\n",
       "      <td>0.208516</td>\n",
       "      <td>-12.052826</td>\n",
       "      <td>0.643513</td>\n",
       "      <td>0.390625</td>\n",
       "      <td>0.006667</td>\n",
       "      <td>0.063333</td>\n",
       "      <td>0.026667</td>\n",
       "    </tr>\n",
       "    <tr>\n",
       "      <th>2</th>\n",
       "      <td>3.132946</td>\n",
       "      <td>0.206627</td>\n",
       "      <td>-0.037349</td>\n",
       "      <td>-0.474401</td>\n",
       "      <td>0.200870</td>\n",
       "      <td>0.167502</td>\n",
       "      <td>0.317199</td>\n",
       "      <td>0.990109</td>\n",
       "      <td>0.684877</td>\n",
       "      <td>1.012249</td>\n",
       "      <td>...</td>\n",
       "      <td>-11.357652</td>\n",
       "      <td>0.564068</td>\n",
       "      <td>0.390625</td>\n",
       "      <td>0.438228</td>\n",
       "      <td>-16.856855</td>\n",
       "      <td>0.347882</td>\n",
       "      <td>0.585938</td>\n",
       "      <td>0.036667</td>\n",
       "      <td>0.026667</td>\n",
       "      <td>0.013333</td>\n",
       "    </tr>\n",
       "    <tr>\n",
       "      <th>3</th>\n",
       "      <td>1.287068</td>\n",
       "      <td>0.450575</td>\n",
       "      <td>-0.387845</td>\n",
       "      <td>-0.648580</td>\n",
       "      <td>0.229170</td>\n",
       "      <td>0.297565</td>\n",
       "      <td>0.424799</td>\n",
       "      <td>0.768445</td>\n",
       "      <td>1.171962</td>\n",
       "      <td>1.492442</td>\n",
       "      <td>...</td>\n",
       "      <td>-18.193390</td>\n",
       "      <td>0.493779</td>\n",
       "      <td>0.390625</td>\n",
       "      <td>0.435065</td>\n",
       "      <td>-16.643869</td>\n",
       "      <td>0.463852</td>\n",
       "      <td>0.390625</td>\n",
       "      <td>0.016667</td>\n",
       "      <td>0.023333</td>\n",
       "      <td>0.013333</td>\n",
       "    </tr>\n",
       "    <tr>\n",
       "      <th>4</th>\n",
       "      <td>3.061906</td>\n",
       "      <td>0.172157</td>\n",
       "      <td>0.040090</td>\n",
       "      <td>0.106814</td>\n",
       "      <td>0.302633</td>\n",
       "      <td>0.247007</td>\n",
       "      <td>0.215694</td>\n",
       "      <td>1.161651</td>\n",
       "      <td>1.076629</td>\n",
       "      <td>1.017303</td>\n",
       "      <td>...</td>\n",
       "      <td>-15.599022</td>\n",
       "      <td>0.475063</td>\n",
       "      <td>1.367188</td>\n",
       "      <td>0.251816</td>\n",
       "      <td>-11.858902</td>\n",
       "      <td>0.612339</td>\n",
       "      <td>0.390625</td>\n",
       "      <td>0.013333</td>\n",
       "      <td>0.020000</td>\n",
       "      <td>0.026667</td>\n",
       "    </tr>\n",
       "  </tbody>\n",
       "</table>\n",
       "<p>5 rows × 24 columns</p>\n",
       "</div>"
      ],
      "text/plain": [
       "   x_bp_filt_[0.25, 3.0]_signal_entropy  \\\n",
       "0                              2.741457   \n",
       "1                              1.477732   \n",
       "2                              3.132946   \n",
       "3                              1.287068   \n",
       "4                              3.061906   \n",
       "\n",
       "   x_bp_filt_[0.25, 3.0]_y_bp_filt_[0.25, 3.0]_corr_coef  \\\n",
       "0                                           0.011239       \n",
       "1                                           0.180066       \n",
       "2                                           0.206627       \n",
       "3                                           0.450575       \n",
       "4                                           0.172157       \n",
       "\n",
       "   x_bp_filt_[0.25, 3.0]_z_bp_filt_[0.25, 3.0]_corr_coef  \\\n",
       "0                                           0.466415       \n",
       "1                                           0.361380       \n",
       "2                                          -0.037349       \n",
       "3                                          -0.387845       \n",
       "4                                           0.040090       \n",
       "\n",
       "   y_bp_filt_[0.25, 3.0]_z_bp_filt_[0.25, 3.0]_corr_coef  \\\n",
       "0                                           0.075455       \n",
       "1                                           0.515227       \n",
       "2                                          -0.474401       \n",
       "3                                          -0.648580       \n",
       "4                                           0.106814       \n",
       "\n",
       "   x_bp_filt_[0.25, 3.0]_rms  y_bp_filt_[0.25, 3.0]_rms  \\\n",
       "0                   0.141720                   0.100563   \n",
       "1                   0.310504                   0.221593   \n",
       "2                   0.200870                   0.167502   \n",
       "3                   0.229170                   0.297565   \n",
       "4                   0.302633                   0.247007   \n",
       "\n",
       "   z_bp_filt_[0.25, 3.0]_rms  x_bp_filt_[0.25, 3.0]_range  \\\n",
       "0                   0.256357                     0.593037   \n",
       "1                   0.248662                     1.146375   \n",
       "2                   0.317199                     0.990109   \n",
       "3                   0.424799                     0.768445   \n",
       "4                   0.215694                     1.161651   \n",
       "\n",
       "   y_bp_filt_[0.25, 3.0]_range  z_bp_filt_[0.25, 3.0]_range  \\\n",
       "0                     0.487984                     0.984747   \n",
       "1                     1.259789                     1.174448   \n",
       "2                     0.684877                     1.012249   \n",
       "3                     1.171962                     1.492442   \n",
       "4                     1.076629                     1.017303   \n",
       "\n",
       "                   ...                    \\\n",
       "0                  ...                     \n",
       "1                  ...                     \n",
       "2                  ...                     \n",
       "3                  ...                     \n",
       "4                  ...                     \n",
       "\n",
       "   y_bp_filt_[0.25, 3.0]_spectral_flatness  \\\n",
       "0                               -11.406831   \n",
       "1                               -11.579113   \n",
       "2                               -11.357652   \n",
       "3                               -18.193390   \n",
       "4                               -15.599022   \n",
       "\n",
       "   y_bp_filt_[0.25, 3.0]_spectral_entropy  \\\n",
       "0                                0.570105   \n",
       "1                                0.676098   \n",
       "2                                0.564068   \n",
       "3                                0.493779   \n",
       "4                                0.475063   \n",
       "\n",
       "   z_bp_filt_[0.25, 3.0]_dom_freq_value  \\\n",
       "0                              0.390625   \n",
       "1                              0.195312   \n",
       "2                              0.390625   \n",
       "3                              0.390625   \n",
       "4                              1.367188   \n",
       "\n",
       "   z_bp_filt_[0.25, 3.0]_dom_freq_magnitude  \\\n",
       "0                                  0.354234   \n",
       "1                                  0.208516   \n",
       "2                                  0.438228   \n",
       "3                                  0.435065   \n",
       "4                                  0.251816   \n",
       "\n",
       "   z_bp_filt_[0.25, 3.0]_spectral_flatness  \\\n",
       "0                               -14.098914   \n",
       "1                               -12.052826   \n",
       "2                               -16.856855   \n",
       "3                               -16.643869   \n",
       "4                               -11.858902   \n",
       "\n",
       "   z_bp_filt_[0.25, 3.0]_spectral_entropy  PC1_[0.25, 3.0]_dom_freq_value  \\\n",
       "0                                0.502229                        0.390625   \n",
       "1                                0.643513                        0.390625   \n",
       "2                                0.347882                        0.585938   \n",
       "3                                0.463852                        0.390625   \n",
       "4                                0.612339                        0.390625   \n",
       "\n",
       "   x_bp_filt_[0.25, 3.0]_mean_cross_rate  \\\n",
       "0                               0.013333   \n",
       "1                               0.006667   \n",
       "2                               0.036667   \n",
       "3                               0.016667   \n",
       "4                               0.013333   \n",
       "\n",
       "   y_bp_filt_[0.25, 3.0]_mean_cross_rate  \\\n",
       "0                               0.046667   \n",
       "1                               0.063333   \n",
       "2                               0.026667   \n",
       "3                               0.023333   \n",
       "4                               0.020000   \n",
       "\n",
       "   z_bp_filt_[0.25, 3.0]_mean_cross_rate  \n",
       "0                               0.006667  \n",
       "1                               0.026667  \n",
       "2                               0.013333  \n",
       "3                               0.013333  \n",
       "4                               0.026667  \n",
       "\n",
       "[5 rows x 24 columns]"
      ]
     },
     "execution_count": 10,
     "metadata": {},
     "output_type": "execute_result"
    }
   ],
   "source": [
    "from classifiers import gait_classifier\n",
    "from classifiers import constants\n",
    "# Build feature set in 3 second windows for Gait classification\n",
    "gait_classifier_feature_set = gait_classifier.build_gait_classification_feature_set(raw_data_df, raw_data_sampling_rate)\n",
    "\n",
    "# Trim calculated features to ones determined from feature selection\n",
    "gait_classifier_feature_set = gait_classifier_feature_set[constants.GAIT_FEATURE_SELECTION]\n",
    "gait_classifier_feature_set.head()"
   ]
  },
  {
   "cell_type": "markdown",
   "metadata": {},
   "source": [
    "## Initialize gait classification model"
   ]
  },
  {
   "cell_type": "code",
   "execution_count": 11,
   "metadata": {},
   "outputs": [
    {
     "data": {
      "text/plain": [
       "RandomForestClassifier(bootstrap=True, class_weight=None, criterion='gini',\n",
       "            max_depth=None, max_features='auto', max_leaf_nodes=None,\n",
       "            min_impurity_decrease=0.0, min_impurity_split=None,\n",
       "            min_samples_leaf=1, min_samples_split=2,\n",
       "            min_weight_fraction_leaf=0.0, n_estimators='warn', n_jobs=None,\n",
       "            oob_score=False, random_state=None, verbose=0,\n",
       "            warm_start=False)"
      ]
     },
     "execution_count": 11,
     "metadata": {},
     "output_type": "execute_result"
    }
   ],
   "source": [
    "# Initialize model for training (Untrained Model)\n",
    "gait_model = gait_classifier.initialize_model()\n",
    "gait_model"
   ]
  },
  {
   "cell_type": "markdown",
   "metadata": {},
   "source": [
    "# Resting Tremor ML Model"
   ]
  },
  {
   "cell_type": "markdown",
   "metadata": {},
   "source": [
    "## Extract features for resting tremor model"
   ]
  },
  {
   "cell_type": "code",
   "execution_count": 12,
   "metadata": {},
   "outputs": [
    {
     "data": {
      "text/html": [
       "<div>\n",
       "<style scoped>\n",
       "    .dataframe tbody tr th:only-of-type {\n",
       "        vertical-align: middle;\n",
       "    }\n",
       "\n",
       "    .dataframe tbody tr th {\n",
       "        vertical-align: top;\n",
       "    }\n",
       "\n",
       "    .dataframe thead th {\n",
       "        text-align: right;\n",
       "    }\n",
       "</style>\n",
       "<table border=\"1\" class=\"dataframe\">\n",
       "  <thead>\n",
       "    <tr style=\"text-align: right;\">\n",
       "      <th></th>\n",
       "      <th>x_bp_filt_[0.25, 3.5]_range</th>\n",
       "      <th>z_bp_filt_[3.5, 7.5]_rms</th>\n",
       "      <th>x_bp_filt_[0.25, 3.5]_rms</th>\n",
       "      <th>PC1_[3.5, 7.5]_rms</th>\n",
       "      <th>y_bp_filt_[3.5, 7.5]_spectral_flatness</th>\n",
       "      <th>y_bp_filt_[3.5, 7.5]_spectral_entropy</th>\n",
       "      <th>z_bp_filt_[3.5, 7.5]_spectral_entropy</th>\n",
       "      <th>x_bp_filt_[0.25, 3.5]_spectral_flatness</th>\n",
       "      <th>x_bp_filt_[0.25, 3.5]_spectral_entropy</th>\n",
       "      <th>y_bp_filt_[0.25, 3.5]_spectral_flatness</th>\n",
       "      <th>z_bp_filt_[0.25, 3.5]_dom_freq_value</th>\n",
       "      <th>z_bp_filt_[0.25, 3.5]_spectral_flatness</th>\n",
       "      <th>PC1_[3.5, 7.5]_spectral_entropy</th>\n",
       "      <th>PC1_[0.25, 3.5]_dom_freq_value</th>\n",
       "      <th>PC1_[0.25, 3.5]_spectral_flatness</th>\n",
       "      <th>x_bp_filt_[3.5, 7.5]_signal_entropy</th>\n",
       "      <th>y_bp_filt_[0.25, 3.5]_signal_entropy</th>\n",
       "      <th>z_bp_filt_[0.25, 3.5]_signal_entropy</th>\n",
       "    </tr>\n",
       "  </thead>\n",
       "  <tbody>\n",
       "    <tr>\n",
       "      <th>0</th>\n",
       "      <td>0.616158</td>\n",
       "      <td>0.128642</td>\n",
       "      <td>0.143968</td>\n",
       "      <td>0.125507</td>\n",
       "      <td>-6.507597</td>\n",
       "      <td>0.703712</td>\n",
       "      <td>0.740232</td>\n",
       "      <td>-12.968265</td>\n",
       "      <td>0.557542</td>\n",
       "      <td>-9.870229</td>\n",
       "      <td>0.390625</td>\n",
       "      <td>-12.818774</td>\n",
       "      <td>0.747275</td>\n",
       "      <td>0.390625</td>\n",
       "      <td>-12.441173</td>\n",
       "      <td>5.097437</td>\n",
       "      <td>4.298056</td>\n",
       "      <td>1.210843</td>\n",
       "    </tr>\n",
       "    <tr>\n",
       "      <th>1</th>\n",
       "      <td>1.189517</td>\n",
       "      <td>0.251191</td>\n",
       "      <td>0.312328</td>\n",
       "      <td>0.253560</td>\n",
       "      <td>-7.535671</td>\n",
       "      <td>0.739126</td>\n",
       "      <td>0.702784</td>\n",
       "      <td>-16.876019</td>\n",
       "      <td>0.434671</td>\n",
       "      <td>-10.207491</td>\n",
       "      <td>0.195312</td>\n",
       "      <td>-10.803090</td>\n",
       "      <td>0.707009</td>\n",
       "      <td>0.390625</td>\n",
       "      <td>-11.704112</td>\n",
       "      <td>3.801229</td>\n",
       "      <td>1.953074</td>\n",
       "      <td>5.049593</td>\n",
       "    </tr>\n",
       "    <tr>\n",
       "      <th>2</th>\n",
       "      <td>1.084730</td>\n",
       "      <td>0.097036</td>\n",
       "      <td>0.206868</td>\n",
       "      <td>0.095977</td>\n",
       "      <td>-5.404262</td>\n",
       "      <td>0.848510</td>\n",
       "      <td>0.752831</td>\n",
       "      <td>-11.344323</td>\n",
       "      <td>0.625648</td>\n",
       "      <td>-9.591438</td>\n",
       "      <td>0.390625</td>\n",
       "      <td>-15.805086</td>\n",
       "      <td>0.756254</td>\n",
       "      <td>0.585938</td>\n",
       "      <td>-15.776606</td>\n",
       "      <td>2.687391</td>\n",
       "      <td>2.758894</td>\n",
       "      <td>0.789207</td>\n",
       "    </tr>\n",
       "    <tr>\n",
       "      <th>3</th>\n",
       "      <td>0.799848</td>\n",
       "      <td>0.088024</td>\n",
       "      <td>0.230946</td>\n",
       "      <td>0.091409</td>\n",
       "      <td>-6.206900</td>\n",
       "      <td>0.790694</td>\n",
       "      <td>0.798732</td>\n",
       "      <td>-13.053697</td>\n",
       "      <td>0.536582</td>\n",
       "      <td>-16.799612</td>\n",
       "      <td>0.390625</td>\n",
       "      <td>-15.879248</td>\n",
       "      <td>0.789869</td>\n",
       "      <td>0.390625</td>\n",
       "      <td>-17.098345</td>\n",
       "      <td>4.868889</td>\n",
       "      <td>2.474045</td>\n",
       "      <td>0.997694</td>\n",
       "    </tr>\n",
       "    <tr>\n",
       "      <th>4</th>\n",
       "      <td>1.203185</td>\n",
       "      <td>0.152753</td>\n",
       "      <td>0.306229</td>\n",
       "      <td>0.152075</td>\n",
       "      <td>-7.547324</td>\n",
       "      <td>0.718677</td>\n",
       "      <td>0.737132</td>\n",
       "      <td>-13.681340</td>\n",
       "      <td>0.515729</td>\n",
       "      <td>-14.534434</td>\n",
       "      <td>1.367188</td>\n",
       "      <td>-11.503966</td>\n",
       "      <td>0.735459</td>\n",
       "      <td>0.390625</td>\n",
       "      <td>-11.779819</td>\n",
       "      <td>4.855701</td>\n",
       "      <td>2.764880</td>\n",
       "      <td>4.202279</td>\n",
       "    </tr>\n",
       "  </tbody>\n",
       "</table>\n",
       "</div>"
      ],
      "text/plain": [
       "   x_bp_filt_[0.25, 3.5]_range  z_bp_filt_[3.5, 7.5]_rms  \\\n",
       "0                     0.616158                  0.128642   \n",
       "1                     1.189517                  0.251191   \n",
       "2                     1.084730                  0.097036   \n",
       "3                     0.799848                  0.088024   \n",
       "4                     1.203185                  0.152753   \n",
       "\n",
       "   x_bp_filt_[0.25, 3.5]_rms  PC1_[3.5, 7.5]_rms  \\\n",
       "0                   0.143968            0.125507   \n",
       "1                   0.312328            0.253560   \n",
       "2                   0.206868            0.095977   \n",
       "3                   0.230946            0.091409   \n",
       "4                   0.306229            0.152075   \n",
       "\n",
       "   y_bp_filt_[3.5, 7.5]_spectral_flatness  \\\n",
       "0                               -6.507597   \n",
       "1                               -7.535671   \n",
       "2                               -5.404262   \n",
       "3                               -6.206900   \n",
       "4                               -7.547324   \n",
       "\n",
       "   y_bp_filt_[3.5, 7.5]_spectral_entropy  \\\n",
       "0                               0.703712   \n",
       "1                               0.739126   \n",
       "2                               0.848510   \n",
       "3                               0.790694   \n",
       "4                               0.718677   \n",
       "\n",
       "   z_bp_filt_[3.5, 7.5]_spectral_entropy  \\\n",
       "0                               0.740232   \n",
       "1                               0.702784   \n",
       "2                               0.752831   \n",
       "3                               0.798732   \n",
       "4                               0.737132   \n",
       "\n",
       "   x_bp_filt_[0.25, 3.5]_spectral_flatness  \\\n",
       "0                               -12.968265   \n",
       "1                               -16.876019   \n",
       "2                               -11.344323   \n",
       "3                               -13.053697   \n",
       "4                               -13.681340   \n",
       "\n",
       "   x_bp_filt_[0.25, 3.5]_spectral_entropy  \\\n",
       "0                                0.557542   \n",
       "1                                0.434671   \n",
       "2                                0.625648   \n",
       "3                                0.536582   \n",
       "4                                0.515729   \n",
       "\n",
       "   y_bp_filt_[0.25, 3.5]_spectral_flatness  \\\n",
       "0                                -9.870229   \n",
       "1                               -10.207491   \n",
       "2                                -9.591438   \n",
       "3                               -16.799612   \n",
       "4                               -14.534434   \n",
       "\n",
       "   z_bp_filt_[0.25, 3.5]_dom_freq_value  \\\n",
       "0                              0.390625   \n",
       "1                              0.195312   \n",
       "2                              0.390625   \n",
       "3                              0.390625   \n",
       "4                              1.367188   \n",
       "\n",
       "   z_bp_filt_[0.25, 3.5]_spectral_flatness  PC1_[3.5, 7.5]_spectral_entropy  \\\n",
       "0                               -12.818774                         0.747275   \n",
       "1                               -10.803090                         0.707009   \n",
       "2                               -15.805086                         0.756254   \n",
       "3                               -15.879248                         0.789869   \n",
       "4                               -11.503966                         0.735459   \n",
       "\n",
       "   PC1_[0.25, 3.5]_dom_freq_value  PC1_[0.25, 3.5]_spectral_flatness  \\\n",
       "0                        0.390625                         -12.441173   \n",
       "1                        0.390625                         -11.704112   \n",
       "2                        0.585938                         -15.776606   \n",
       "3                        0.390625                         -17.098345   \n",
       "4                        0.390625                         -11.779819   \n",
       "\n",
       "   x_bp_filt_[3.5, 7.5]_signal_entropy  y_bp_filt_[0.25, 3.5]_signal_entropy  \\\n",
       "0                             5.097437                              4.298056   \n",
       "1                             3.801229                              1.953074   \n",
       "2                             2.687391                              2.758894   \n",
       "3                             4.868889                              2.474045   \n",
       "4                             4.855701                              2.764880   \n",
       "\n",
       "   z_bp_filt_[0.25, 3.5]_signal_entropy  \n",
       "0                              1.210843  \n",
       "1                              5.049593  \n",
       "2                              0.789207  \n",
       "3                              0.997694  \n",
       "4                              4.202279  "
      ]
     },
     "execution_count": 12,
     "metadata": {},
     "output_type": "execute_result"
    }
   ],
   "source": [
    "from classifiers import resting_tremor_classifier\n",
    "\n",
    "# Build feature set in 3 second windows for resting tremor classification\n",
    "tremor_classifier_feature_set = resting_tremor_classifier.build_rest_tremor_classification_feature_set(raw_data_df, raw_data_sampling_rate)\n",
    "tremor_classifier_feature_set.head()\n",
    "\n",
    "# Trim calculated features to ones determined from feature selection\n",
    "tremor_classifier_feature_set = tremor_classifier_feature_set[constants.TREMOR_FEATURE_SELECTION]\n",
    "tremor_classifier_feature_set.head()"
   ]
  },
  {
   "cell_type": "markdown",
   "metadata": {},
   "source": [
    "## Initialize resting tremor classification model"
   ]
  },
  {
   "cell_type": "code",
   "execution_count": 13,
   "metadata": {},
   "outputs": [
    {
     "data": {
      "text/plain": [
       "RandomForestClassifier(bootstrap=True, class_weight=None, criterion='gini',\n",
       "            max_depth=None, max_features='auto', max_leaf_nodes=None,\n",
       "            min_impurity_decrease=0.0, min_impurity_split=None,\n",
       "            min_samples_leaf=1, min_samples_split=2,\n",
       "            min_weight_fraction_leaf=0.0, n_estimators='warn', n_jobs=None,\n",
       "            oob_score=False, random_state=None, verbose=0,\n",
       "            warm_start=False)"
      ]
     },
     "execution_count": 13,
     "metadata": {},
     "output_type": "execute_result"
    }
   ],
   "source": [
    "# Initialize model for training (Untrained Model)\n",
    "resting_tremor_model = resting_tremor_classifier.initialize_model()\n",
    "resting_tremor_model"
   ]
  },
  {
   "cell_type": "markdown",
   "metadata": {},
   "source": [
    "# Get hand movement predictions from heuristic hand movement classifier"
   ]
  },
  {
   "cell_type": "code",
   "execution_count": 14,
   "metadata": {},
   "outputs": [
    {
     "data": {
      "text/plain": [
       "array([1., 1., 1., 1., 1., 1., 1., 1., 1., 1., 1., 1., 1., 1., 1., 1., 1.,\n",
       "       1., 1., 1., 0., 0., 1., 1., 1., 1., 1., 1., 1., 1., 0., 1., 1., 1.,\n",
       "       1., 0., 1., 1., 1., 1.])"
      ]
     },
     "execution_count": 14,
     "metadata": {},
     "output_type": "execute_result"
    }
   ],
   "source": [
    "from classifiers import hand_movement_classifier\n",
    "\n",
    "# Compute hand movement predictions in 3 second windows\n",
    "hand_movement_predictions = hand_movement_classifier.detect_hand_movement(raw_data_df, raw_data_sampling_rate)\n",
    "hand_movement_predictions"
   ]
  },
  {
   "cell_type": "markdown",
   "metadata": {},
   "source": [
    "# Get resting tremor amplitude predictions from heuristic rest tremor amplitude classifier"
   ]
  },
  {
   "cell_type": "code",
   "execution_count": null,
   "metadata": {
    "collapsed": true
   },
   "outputs": [],
   "source": [
    "from classifiers import resting_tremor_amplitude_classifier"
   ]
  },
  {
   "cell_type": "markdown",
   "metadata": {},
   "source": [
    "# Get hand movement features predictions (hand movement amplitude & smoothness of hand movement) "
   ]
  },
  {
   "cell_type": "code",
   "execution_count": 13,
   "metadata": {
    "collapsed": true
   },
   "outputs": [],
   "source": [
    "from classifiers import hand_movement_features"
   ]
  },
  {
   "cell_type": "markdown",
   "metadata": {},
   "source": [
    "# Organize predictions for given data file into one pandas DataFrame"
   ]
  },
  {
   "cell_type": "code",
   "execution_count": 14,
   "metadata": {
    "collapsed": true
   },
   "outputs": [],
   "source": [
    "from endpoints import filter_classifier_predictions"
   ]
  },
  {
   "cell_type": "markdown",
   "metadata": {},
   "source": [
    "# Compute aggregate resting tremor endpoints"
   ]
  },
  {
   "cell_type": "code",
   "execution_count": 15,
   "metadata": {
    "collapsed": true
   },
   "outputs": [],
   "source": [
    "from endpoints import resting_tremor_endpoints"
   ]
  },
  {
   "cell_type": "markdown",
   "metadata": {},
   "source": [
    "# Compute aggregate bradykinesia endpoints"
   ]
  },
  {
   "cell_type": "code",
   "execution_count": 16,
   "metadata": {
    "collapsed": true
   },
   "outputs": [],
   "source": [
    "from endpoints import bradykinesia_endpoints"
   ]
  }
 ],
 "metadata": {
  "kernelspec": {
   "display_name": "Python 2",
   "language": "python",
   "name": "python2"
  },
  "language_info": {
   "codemirror_mode": {
    "name": "ipython",
    "version": 2
   },
   "file_extension": ".py",
   "mimetype": "text/x-python",
   "name": "python",
   "nbconvert_exporter": "python",
   "pygments_lexer": "ipython2",
   "version": "2.7.14"
  }
 },
 "nbformat": 4,
 "nbformat_minor": 1
}
