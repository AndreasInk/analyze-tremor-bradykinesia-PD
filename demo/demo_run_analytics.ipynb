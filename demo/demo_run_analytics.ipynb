{
 "cells": [
  {
   "cell_type": "markdown",
   "metadata": {
    "collapsed": true
   },
   "source": [
    "# Import packages and add function files to system path"
   ]
  },
  {
   "cell_type": "code",
   "execution_count": 1,
   "metadata": {
    "collapsed": true
   },
   "outputs": [],
   "source": [
    "import sys, os\n",
    "import pandas as pd\n",
    "sys.path.append(os.path.dirname(os.path.dirname(os.path.abspath('classifiers'))))"
   ]
  },
  {
   "cell_type": "markdown",
   "metadata": {},
   "source": [
    "# Specify constants"
   ]
  },
  {
   "cell_type": "code",
   "execution_count": 2,
   "metadata": {
    "collapsed": true
   },
   "outputs": [],
   "source": [
    "# Set file path to raw accelerometer data (.CSV file, unit=G's, headers = ['ts','x','y','z'])\n",
    "raw_data_filepath = 'sample_wrist_accelerometer_data.csv'\n",
    "# Specify raw data sampling rate (float)\n",
    "raw_data_sampling_rate = 100."
   ]
  },
  {
   "cell_type": "markdown",
   "metadata": {},
   "source": [
    "# Load Raw Data"
   ]
  },
  {
   "cell_type": "code",
   "execution_count": 3,
   "metadata": {
    "scrolled": true
   },
   "outputs": [
    {
     "data": {
      "text/html": [
       "<div>\n",
       "<style scoped>\n",
       "    .dataframe tbody tr th:only-of-type {\n",
       "        vertical-align: middle;\n",
       "    }\n",
       "\n",
       "    .dataframe tbody tr th {\n",
       "        vertical-align: top;\n",
       "    }\n",
       "\n",
       "    .dataframe thead th {\n",
       "        text-align: right;\n",
       "    }\n",
       "</style>\n",
       "<table border=\"1\" class=\"dataframe\">\n",
       "  <thead>\n",
       "    <tr style=\"text-align: right;\">\n",
       "      <th></th>\n",
       "      <th>ts</th>\n",
       "      <th>x</th>\n",
       "      <th>y</th>\n",
       "      <th>z</th>\n",
       "    </tr>\n",
       "  </thead>\n",
       "  <tbody>\n",
       "    <tr>\n",
       "      <th>0</th>\n",
       "      <td>2019-03-21 14:58:00:500</td>\n",
       "      <td>0.1273</td>\n",
       "      <td>-0.6353</td>\n",
       "      <td>-0.3466</td>\n",
       "    </tr>\n",
       "    <tr>\n",
       "      <th>1</th>\n",
       "      <td>2019-03-21 14:58:00:510</td>\n",
       "      <td>0.2188</td>\n",
       "      <td>-0.6314</td>\n",
       "      <td>-0.2873</td>\n",
       "    </tr>\n",
       "    <tr>\n",
       "      <th>2</th>\n",
       "      <td>2019-03-21 14:58:00:520</td>\n",
       "      <td>0.2427</td>\n",
       "      <td>-0.6593</td>\n",
       "      <td>-0.2359</td>\n",
       "    </tr>\n",
       "    <tr>\n",
       "      <th>3</th>\n",
       "      <td>2019-03-21 14:58:00:530</td>\n",
       "      <td>0.2347</td>\n",
       "      <td>-0.6912</td>\n",
       "      <td>-0.2596</td>\n",
       "    </tr>\n",
       "    <tr>\n",
       "      <th>4</th>\n",
       "      <td>2019-03-21 14:58:00:540</td>\n",
       "      <td>0.1870</td>\n",
       "      <td>-0.7191</td>\n",
       "      <td>-0.3387</td>\n",
       "    </tr>\n",
       "  </tbody>\n",
       "</table>\n",
       "</div>"
      ],
      "text/plain": [
       "                        ts       x       y       z\n",
       "0  2019-03-21 14:58:00:500  0.1273 -0.6353 -0.3466\n",
       "1  2019-03-21 14:58:00:510  0.2188 -0.6314 -0.2873\n",
       "2  2019-03-21 14:58:00:520  0.2427 -0.6593 -0.2359\n",
       "3  2019-03-21 14:58:00:530  0.2347 -0.6912 -0.2596\n",
       "4  2019-03-21 14:58:00:540  0.1870 -0.7191 -0.3387"
      ]
     },
     "execution_count": 3,
     "metadata": {},
     "output_type": "execute_result"
    }
   ],
   "source": [
    "# Load raw data into Pandas DataFrame\n",
    "raw_data_df = pd.read_csv(raw_data_filepath, nrows=raw_data_sampling_rate*60) # Running code on 1 minute of data for demo purposes\n",
    "raw_data_df.head()"
   ]
  },
  {
   "cell_type": "markdown",
   "metadata": {},
   "source": [
    "# Gait ML Model"
   ]
  },
  {
   "cell_type": "markdown",
   "metadata": {},
   "source": [
    "## Extract features for gait model"
   ]
  },
  {
   "cell_type": "code",
   "execution_count": 4,
   "metadata": {},
   "outputs": [
    {
     "name": "stderr",
     "output_type": "stream",
     "text": [
      "/Users/mahadn04/anaconda2/envs/pfizer_venv/lib/python2.7/site-packages/statsmodels/compat/pandas.py:56: FutureWarning: The pandas.core.datetools module is deprecated and will be removed in a future version. Please use the pandas.tseries module instead.\n",
      "  from pandas.core import datetools\n"
     ]
    },
    {
     "data": {
      "text/html": [
       "<div>\n",
       "<style scoped>\n",
       "    .dataframe tbody tr th:only-of-type {\n",
       "        vertical-align: middle;\n",
       "    }\n",
       "\n",
       "    .dataframe tbody tr th {\n",
       "        vertical-align: top;\n",
       "    }\n",
       "\n",
       "    .dataframe thead th {\n",
       "        text-align: right;\n",
       "    }\n",
       "</style>\n",
       "<table border=\"1\" class=\"dataframe\">\n",
       "  <thead>\n",
       "    <tr style=\"text-align: right;\">\n",
       "      <th></th>\n",
       "      <th>x_bp_filt_[0.25, 3.0]_signal_entropy</th>\n",
       "      <th>x_bp_filt_[0.25, 3.0]_y_bp_filt_[0.25, 3.0]_corr_coef</th>\n",
       "      <th>x_bp_filt_[0.25, 3.0]_z_bp_filt_[0.25, 3.0]_corr_coef</th>\n",
       "      <th>y_bp_filt_[0.25, 3.0]_z_bp_filt_[0.25, 3.0]_corr_coef</th>\n",
       "      <th>x_bp_filt_[0.25, 3.0]_rms</th>\n",
       "      <th>y_bp_filt_[0.25, 3.0]_rms</th>\n",
       "      <th>z_bp_filt_[0.25, 3.0]_rms</th>\n",
       "      <th>x_bp_filt_[0.25, 3.0]_range</th>\n",
       "      <th>y_bp_filt_[0.25, 3.0]_range</th>\n",
       "      <th>z_bp_filt_[0.25, 3.0]_range</th>\n",
       "      <th>...</th>\n",
       "      <th>y_bp_filt_[0.25, 3.0]_spectral_flatness</th>\n",
       "      <th>y_bp_filt_[0.25, 3.0]_spectral_entropy</th>\n",
       "      <th>z_bp_filt_[0.25, 3.0]_dom_freq_value</th>\n",
       "      <th>z_bp_filt_[0.25, 3.0]_dom_freq_magnitude</th>\n",
       "      <th>z_bp_filt_[0.25, 3.0]_spectral_flatness</th>\n",
       "      <th>z_bp_filt_[0.25, 3.0]_spectral_entropy</th>\n",
       "      <th>PC1_[0.25, 3.0]_dom_freq_value</th>\n",
       "      <th>x_bp_filt_[0.25, 3.0]_mean_cross_rate</th>\n",
       "      <th>y_bp_filt_[0.25, 3.0]_mean_cross_rate</th>\n",
       "      <th>z_bp_filt_[0.25, 3.0]_mean_cross_rate</th>\n",
       "    </tr>\n",
       "  </thead>\n",
       "  <tbody>\n",
       "    <tr>\n",
       "      <th>0</th>\n",
       "      <td>2.741457</td>\n",
       "      <td>0.011239</td>\n",
       "      <td>0.466415</td>\n",
       "      <td>0.075455</td>\n",
       "      <td>0.141720</td>\n",
       "      <td>0.100563</td>\n",
       "      <td>0.256357</td>\n",
       "      <td>0.593037</td>\n",
       "      <td>0.487984</td>\n",
       "      <td>0.984747</td>\n",
       "      <td>...</td>\n",
       "      <td>-11.406831</td>\n",
       "      <td>0.570105</td>\n",
       "      <td>0.390625</td>\n",
       "      <td>0.354234</td>\n",
       "      <td>-14.098914</td>\n",
       "      <td>0.502229</td>\n",
       "      <td>0.390625</td>\n",
       "      <td>0.013333</td>\n",
       "      <td>0.046667</td>\n",
       "      <td>0.006667</td>\n",
       "    </tr>\n",
       "    <tr>\n",
       "      <th>1</th>\n",
       "      <td>1.477732</td>\n",
       "      <td>0.180066</td>\n",
       "      <td>0.361380</td>\n",
       "      <td>0.515227</td>\n",
       "      <td>0.310504</td>\n",
       "      <td>0.221593</td>\n",
       "      <td>0.248662</td>\n",
       "      <td>1.146375</td>\n",
       "      <td>1.259789</td>\n",
       "      <td>1.174448</td>\n",
       "      <td>...</td>\n",
       "      <td>-11.579113</td>\n",
       "      <td>0.676098</td>\n",
       "      <td>0.195312</td>\n",
       "      <td>0.208516</td>\n",
       "      <td>-12.052826</td>\n",
       "      <td>0.643513</td>\n",
       "      <td>0.390625</td>\n",
       "      <td>0.006667</td>\n",
       "      <td>0.063333</td>\n",
       "      <td>0.026667</td>\n",
       "    </tr>\n",
       "    <tr>\n",
       "      <th>2</th>\n",
       "      <td>3.132946</td>\n",
       "      <td>0.206627</td>\n",
       "      <td>-0.037349</td>\n",
       "      <td>-0.474401</td>\n",
       "      <td>0.200870</td>\n",
       "      <td>0.167502</td>\n",
       "      <td>0.317199</td>\n",
       "      <td>0.990109</td>\n",
       "      <td>0.684877</td>\n",
       "      <td>1.012249</td>\n",
       "      <td>...</td>\n",
       "      <td>-11.357652</td>\n",
       "      <td>0.564068</td>\n",
       "      <td>0.390625</td>\n",
       "      <td>0.438228</td>\n",
       "      <td>-16.856855</td>\n",
       "      <td>0.347882</td>\n",
       "      <td>0.585938</td>\n",
       "      <td>0.036667</td>\n",
       "      <td>0.026667</td>\n",
       "      <td>0.013333</td>\n",
       "    </tr>\n",
       "    <tr>\n",
       "      <th>3</th>\n",
       "      <td>1.287068</td>\n",
       "      <td>0.450575</td>\n",
       "      <td>-0.387845</td>\n",
       "      <td>-0.648580</td>\n",
       "      <td>0.229170</td>\n",
       "      <td>0.297565</td>\n",
       "      <td>0.424799</td>\n",
       "      <td>0.768445</td>\n",
       "      <td>1.171962</td>\n",
       "      <td>1.492442</td>\n",
       "      <td>...</td>\n",
       "      <td>-18.193390</td>\n",
       "      <td>0.493779</td>\n",
       "      <td>0.390625</td>\n",
       "      <td>0.435065</td>\n",
       "      <td>-16.643869</td>\n",
       "      <td>0.463852</td>\n",
       "      <td>0.390625</td>\n",
       "      <td>0.016667</td>\n",
       "      <td>0.023333</td>\n",
       "      <td>0.013333</td>\n",
       "    </tr>\n",
       "    <tr>\n",
       "      <th>4</th>\n",
       "      <td>3.061906</td>\n",
       "      <td>0.172157</td>\n",
       "      <td>0.040090</td>\n",
       "      <td>0.106814</td>\n",
       "      <td>0.302633</td>\n",
       "      <td>0.247007</td>\n",
       "      <td>0.215694</td>\n",
       "      <td>1.161651</td>\n",
       "      <td>1.076629</td>\n",
       "      <td>1.017303</td>\n",
       "      <td>...</td>\n",
       "      <td>-15.599022</td>\n",
       "      <td>0.475063</td>\n",
       "      <td>1.367188</td>\n",
       "      <td>0.251816</td>\n",
       "      <td>-11.858902</td>\n",
       "      <td>0.612339</td>\n",
       "      <td>0.390625</td>\n",
       "      <td>0.013333</td>\n",
       "      <td>0.020000</td>\n",
       "      <td>0.026667</td>\n",
       "    </tr>\n",
       "  </tbody>\n",
       "</table>\n",
       "<p>5 rows × 24 columns</p>\n",
       "</div>"
      ],
      "text/plain": [
       "   x_bp_filt_[0.25, 3.0]_signal_entropy  \\\n",
       "0                              2.741457   \n",
       "1                              1.477732   \n",
       "2                              3.132946   \n",
       "3                              1.287068   \n",
       "4                              3.061906   \n",
       "\n",
       "   x_bp_filt_[0.25, 3.0]_y_bp_filt_[0.25, 3.0]_corr_coef  \\\n",
       "0                                           0.011239       \n",
       "1                                           0.180066       \n",
       "2                                           0.206627       \n",
       "3                                           0.450575       \n",
       "4                                           0.172157       \n",
       "\n",
       "   x_bp_filt_[0.25, 3.0]_z_bp_filt_[0.25, 3.0]_corr_coef  \\\n",
       "0                                           0.466415       \n",
       "1                                           0.361380       \n",
       "2                                          -0.037349       \n",
       "3                                          -0.387845       \n",
       "4                                           0.040090       \n",
       "\n",
       "   y_bp_filt_[0.25, 3.0]_z_bp_filt_[0.25, 3.0]_corr_coef  \\\n",
       "0                                           0.075455       \n",
       "1                                           0.515227       \n",
       "2                                          -0.474401       \n",
       "3                                          -0.648580       \n",
       "4                                           0.106814       \n",
       "\n",
       "   x_bp_filt_[0.25, 3.0]_rms  y_bp_filt_[0.25, 3.0]_rms  \\\n",
       "0                   0.141720                   0.100563   \n",
       "1                   0.310504                   0.221593   \n",
       "2                   0.200870                   0.167502   \n",
       "3                   0.229170                   0.297565   \n",
       "4                   0.302633                   0.247007   \n",
       "\n",
       "   z_bp_filt_[0.25, 3.0]_rms  x_bp_filt_[0.25, 3.0]_range  \\\n",
       "0                   0.256357                     0.593037   \n",
       "1                   0.248662                     1.146375   \n",
       "2                   0.317199                     0.990109   \n",
       "3                   0.424799                     0.768445   \n",
       "4                   0.215694                     1.161651   \n",
       "\n",
       "   y_bp_filt_[0.25, 3.0]_range  z_bp_filt_[0.25, 3.0]_range  \\\n",
       "0                     0.487984                     0.984747   \n",
       "1                     1.259789                     1.174448   \n",
       "2                     0.684877                     1.012249   \n",
       "3                     1.171962                     1.492442   \n",
       "4                     1.076629                     1.017303   \n",
       "\n",
       "                   ...                    \\\n",
       "0                  ...                     \n",
       "1                  ...                     \n",
       "2                  ...                     \n",
       "3                  ...                     \n",
       "4                  ...                     \n",
       "\n",
       "   y_bp_filt_[0.25, 3.0]_spectral_flatness  \\\n",
       "0                               -11.406831   \n",
       "1                               -11.579113   \n",
       "2                               -11.357652   \n",
       "3                               -18.193390   \n",
       "4                               -15.599022   \n",
       "\n",
       "   y_bp_filt_[0.25, 3.0]_spectral_entropy  \\\n",
       "0                                0.570105   \n",
       "1                                0.676098   \n",
       "2                                0.564068   \n",
       "3                                0.493779   \n",
       "4                                0.475063   \n",
       "\n",
       "   z_bp_filt_[0.25, 3.0]_dom_freq_value  \\\n",
       "0                              0.390625   \n",
       "1                              0.195312   \n",
       "2                              0.390625   \n",
       "3                              0.390625   \n",
       "4                              1.367188   \n",
       "\n",
       "   z_bp_filt_[0.25, 3.0]_dom_freq_magnitude  \\\n",
       "0                                  0.354234   \n",
       "1                                  0.208516   \n",
       "2                                  0.438228   \n",
       "3                                  0.435065   \n",
       "4                                  0.251816   \n",
       "\n",
       "   z_bp_filt_[0.25, 3.0]_spectral_flatness  \\\n",
       "0                               -14.098914   \n",
       "1                               -12.052826   \n",
       "2                               -16.856855   \n",
       "3                               -16.643869   \n",
       "4                               -11.858902   \n",
       "\n",
       "   z_bp_filt_[0.25, 3.0]_spectral_entropy  PC1_[0.25, 3.0]_dom_freq_value  \\\n",
       "0                                0.502229                        0.390625   \n",
       "1                                0.643513                        0.390625   \n",
       "2                                0.347882                        0.585938   \n",
       "3                                0.463852                        0.390625   \n",
       "4                                0.612339                        0.390625   \n",
       "\n",
       "   x_bp_filt_[0.25, 3.0]_mean_cross_rate  \\\n",
       "0                               0.013333   \n",
       "1                               0.006667   \n",
       "2                               0.036667   \n",
       "3                               0.016667   \n",
       "4                               0.013333   \n",
       "\n",
       "   y_bp_filt_[0.25, 3.0]_mean_cross_rate  \\\n",
       "0                               0.046667   \n",
       "1                               0.063333   \n",
       "2                               0.026667   \n",
       "3                               0.023333   \n",
       "4                               0.020000   \n",
       "\n",
       "   z_bp_filt_[0.25, 3.0]_mean_cross_rate  \n",
       "0                               0.006667  \n",
       "1                               0.026667  \n",
       "2                               0.013333  \n",
       "3                               0.013333  \n",
       "4                               0.026667  \n",
       "\n",
       "[5 rows x 24 columns]"
      ]
     },
     "execution_count": 4,
     "metadata": {},
     "output_type": "execute_result"
    }
   ],
   "source": [
    "from classifiers import gait_classifier\n",
    "from classifiers import constants\n",
    "# Build feature set in 3 second windows for Gait classification\n",
    "gait_classifier_feature_set = gait_classifier.build_gait_classification_feature_set(raw_data_df, raw_data_sampling_rate)\n",
    "\n",
    "# Trim calculated features to ones determined from feature selection\n",
    "gait_classifier_feature_set = gait_classifier_feature_set[constants.GAIT_FEATURE_SELECTION]\n",
    "gait_classifier_feature_set.head()"
   ]
  },
  {
   "cell_type": "markdown",
   "metadata": {},
   "source": [
    "## Initialize gait classifier model"
   ]
  },
  {
   "cell_type": "code",
   "execution_count": 5,
   "metadata": {},
   "outputs": [
    {
     "data": {
      "text/plain": [
       "RandomForestClassifier(bootstrap=True, class_weight=None, criterion='gini',\n",
       "            max_depth=None, max_features='auto', max_leaf_nodes=None,\n",
       "            min_impurity_decrease=0.0, min_impurity_split=None,\n",
       "            min_samples_leaf=1, min_samples_split=2,\n",
       "            min_weight_fraction_leaf=0.0, n_estimators='warn', n_jobs=None,\n",
       "            oob_score=False, random_state=None, verbose=0,\n",
       "            warm_start=False)"
      ]
     },
     "execution_count": 5,
     "metadata": {},
     "output_type": "execute_result"
    }
   ],
   "source": [
    "# Initialize model for training (Untrained Model)\n",
    "gait_model = gait_classifier.initialize_model()\n",
    "gait_model"
   ]
  },
  {
   "cell_type": "markdown",
   "metadata": {},
   "source": [
    "# Resting Tremor ML Model"
   ]
  },
  {
   "cell_type": "markdown",
   "metadata": {},
   "source": [
    "## Extract features for resting tremor model"
   ]
  },
  {
   "cell_type": "code",
   "execution_count": 6,
   "metadata": {},
   "outputs": [
    {
     "ename": "KeyError",
     "evalue": "'PC1_[3.5, 7.5]'",
     "output_type": "error",
     "traceback": [
      "\u001b[0;31m---------------------------------------------------------------------------\u001b[0m",
      "\u001b[0;31mKeyError\u001b[0m                                  Traceback (most recent call last)",
      "\u001b[0;32m<ipython-input-6-d36df224939a>\u001b[0m in \u001b[0;36m<module>\u001b[0;34m()\u001b[0m\n\u001b[1;32m      1\u001b[0m \u001b[0;32mfrom\u001b[0m \u001b[0mclassifiers\u001b[0m \u001b[0;32mimport\u001b[0m \u001b[0mresting_tremor_classifier\u001b[0m\u001b[0;34m\u001b[0m\u001b[0m\n\u001b[1;32m      2\u001b[0m \u001b[0;34m\u001b[0m\u001b[0m\n\u001b[0;32m----> 3\u001b[0;31m \u001b[0mtremor_classifier_feature_set\u001b[0m \u001b[0;34m=\u001b[0m \u001b[0mresting_tremor_classifier\u001b[0m\u001b[0;34m.\u001b[0m\u001b[0mbuild_rest_tremor_classification_feature_set\u001b[0m\u001b[0;34m(\u001b[0m\u001b[0mraw_data_df\u001b[0m\u001b[0;34m,\u001b[0m \u001b[0mraw_data_sampling_rate\u001b[0m\u001b[0;34m)\u001b[0m\u001b[0;34m\u001b[0m\u001b[0m\n\u001b[0m\u001b[1;32m      4\u001b[0m \u001b[0mtremor_classifier_feature_set\u001b[0m\u001b[0;34m.\u001b[0m\u001b[0mhead\u001b[0m\u001b[0;34m(\u001b[0m\u001b[0;34m)\u001b[0m\u001b[0;34m\u001b[0m\u001b[0m\n",
      "\u001b[0;32m/opt/pfizer/ws/packages/analyze-tremor-bradykinesia-PD/classifiers/resting_tremor_classifier.pyc\u001b[0m in \u001b[0;36mbuild_rest_tremor_classification_feature_set\u001b[0;34m(raw_accelerometer_data_df, fs)\u001b[0m\n\u001b[1;32m     88\u001b[0m         \u001b[0mcurrent_features_df\u001b[0m \u001b[0;34m=\u001b[0m \u001b[0mpd\u001b[0m\u001b[0;34m.\u001b[0m\u001b[0mDataFrame\u001b[0m\u001b[0;34m(\u001b[0m\u001b[0;34m)\u001b[0m\u001b[0;34m\u001b[0m\u001b[0m\n\u001b[1;32m     89\u001b[0m         \u001b[0;31m# Extract signal features for tremor detection\u001b[0m\u001b[0;34m\u001b[0m\u001b[0;34m\u001b[0m\u001b[0m\n\u001b[0;32m---> 90\u001b[0;31m         \u001b[0mcurrent_features_df\u001b[0m \u001b[0;34m=\u001b[0m \u001b[0mextract_tremor_classification_features\u001b[0m\u001b[0;34m(\u001b[0m\u001b[0mwindow_data_df\u001b[0m\u001b[0;34m,\u001b[0m \u001b[0mcurrent_features_df\u001b[0m\u001b[0;34m,\u001b[0m \u001b[0mtotal_data_channels\u001b[0m\u001b[0;34m,\u001b[0m \u001b[0mfs\u001b[0m\u001b[0;34m)\u001b[0m\u001b[0;34m\u001b[0m\u001b[0m\n\u001b[0m\u001b[1;32m     91\u001b[0m         \u001b[0;31m# Aggregate features for each window\u001b[0m\u001b[0;34m\u001b[0m\u001b[0;34m\u001b[0m\u001b[0m\n\u001b[1;32m     92\u001b[0m         \u001b[0mfinal_feature_set\u001b[0m \u001b[0;34m=\u001b[0m \u001b[0mfinal_feature_set\u001b[0m\u001b[0;34m.\u001b[0m\u001b[0mappend\u001b[0m\u001b[0;34m(\u001b[0m\u001b[0mcurrent_features_df\u001b[0m\u001b[0;34m,\u001b[0m \u001b[0mignore_index\u001b[0m\u001b[0;34m=\u001b[0m\u001b[0mTrue\u001b[0m\u001b[0;34m)\u001b[0m\u001b[0;34m\u001b[0m\u001b[0m\n",
      "\u001b[0;32m/opt/pfizer/ws/packages/analyze-tremor-bradykinesia-PD/classifiers/resting_tremor_classifier.pyc\u001b[0m in \u001b[0;36mextract_tremor_classification_features\u001b[0;34m(data_df, current_feature_df, data_channels, fs)\u001b[0m\n\u001b[1;32m     19\u001b[0m     '''\n\u001b[1;32m     20\u001b[0m     \u001b[0;31m# Compute signal range\u001b[0m\u001b[0;34m\u001b[0m\u001b[0;34m\u001b[0m\u001b[0m\n\u001b[0;32m---> 21\u001b[0;31m     \u001b[0mfeat_df_range\u001b[0m \u001b[0;34m=\u001b[0m \u001b[0msf\u001b[0m\u001b[0;34m.\u001b[0m\u001b[0msignal_range\u001b[0m\u001b[0;34m(\u001b[0m\u001b[0mdata_df\u001b[0m\u001b[0;34m,\u001b[0m \u001b[0mchannels\u001b[0m\u001b[0;34m=\u001b[0m\u001b[0mdata_channels\u001b[0m\u001b[0;34m)\u001b[0m\u001b[0;34m\u001b[0m\u001b[0m\n\u001b[0m\u001b[1;32m     22\u001b[0m     \u001b[0mcurrent_feature_df\u001b[0m \u001b[0;34m=\u001b[0m \u001b[0mcurrent_feature_df\u001b[0m\u001b[0;34m.\u001b[0m\u001b[0mjoin\u001b[0m\u001b[0;34m(\u001b[0m\u001b[0mfeat_df_range\u001b[0m\u001b[0;34m,\u001b[0m \u001b[0mhow\u001b[0m\u001b[0;34m=\u001b[0m\u001b[0;34m'outer'\u001b[0m\u001b[0;34m)\u001b[0m\u001b[0;34m\u001b[0m\u001b[0m\n\u001b[1;32m     23\u001b[0m \u001b[0;34m\u001b[0m\u001b[0m\n",
      "\u001b[0;32m/opt/pfizer/ws/packages/analyze-tremor-bradykinesia-PD/features/signal_features.pyc\u001b[0m in \u001b[0;36msignal_range\u001b[0;34m(signal_df, channels)\u001b[0m\n\u001b[1;32m    119\u001b[0m \u001b[0;34m\u001b[0m\u001b[0m\n\u001b[1;32m    120\u001b[0m     \u001b[0;32mfor\u001b[0m \u001b[0mchannel\u001b[0m \u001b[0;32min\u001b[0m \u001b[0mchannels\u001b[0m\u001b[0;34m:\u001b[0m\u001b[0;34m\u001b[0m\u001b[0m\n\u001b[0;32m--> 121\u001b[0;31m         \u001b[0mrange_df\u001b[0m\u001b[0;34m[\u001b[0m\u001b[0mchannel\u001b[0m \u001b[0;34m+\u001b[0m \u001b[0;34m'_range'\u001b[0m\u001b[0;34m]\u001b[0m \u001b[0;34m=\u001b[0m \u001b[0;34m[\u001b[0m\u001b[0msignal_df\u001b[0m\u001b[0;34m[\u001b[0m\u001b[0mchannel\u001b[0m\u001b[0;34m]\u001b[0m\u001b[0;34m.\u001b[0m\u001b[0mmax\u001b[0m\u001b[0;34m(\u001b[0m\u001b[0mskipna\u001b[0m\u001b[0;34m=\u001b[0m\u001b[0mTrue\u001b[0m\u001b[0;34m)\u001b[0m \u001b[0;34m-\u001b[0m \u001b[0msignal_df\u001b[0m\u001b[0;34m[\u001b[0m\u001b[0mchannel\u001b[0m\u001b[0;34m]\u001b[0m\u001b[0;34m.\u001b[0m\u001b[0mmin\u001b[0m\u001b[0;34m(\u001b[0m\u001b[0mskipna\u001b[0m\u001b[0;34m=\u001b[0m\u001b[0mTrue\u001b[0m\u001b[0;34m)\u001b[0m\u001b[0;34m]\u001b[0m\u001b[0;34m\u001b[0m\u001b[0m\n\u001b[0m\u001b[1;32m    122\u001b[0m \u001b[0;34m\u001b[0m\u001b[0m\n\u001b[1;32m    123\u001b[0m     \u001b[0;32mreturn\u001b[0m \u001b[0mrange_df\u001b[0m\u001b[0;34m\u001b[0m\u001b[0m\n",
      "\u001b[0;32m/Users/mahadn04/anaconda2/envs/pfizer_venv/lib/python2.7/site-packages/pandas/core/frame.pyc\u001b[0m in \u001b[0;36m__getitem__\u001b[0;34m(self, key)\u001b[0m\n\u001b[1;32m   2686\u001b[0m             \u001b[0;32mreturn\u001b[0m \u001b[0mself\u001b[0m\u001b[0;34m.\u001b[0m\u001b[0m_getitem_multilevel\u001b[0m\u001b[0;34m(\u001b[0m\u001b[0mkey\u001b[0m\u001b[0;34m)\u001b[0m\u001b[0;34m\u001b[0m\u001b[0m\n\u001b[1;32m   2687\u001b[0m         \u001b[0;32melse\u001b[0m\u001b[0;34m:\u001b[0m\u001b[0;34m\u001b[0m\u001b[0m\n\u001b[0;32m-> 2688\u001b[0;31m             \u001b[0;32mreturn\u001b[0m \u001b[0mself\u001b[0m\u001b[0;34m.\u001b[0m\u001b[0m_getitem_column\u001b[0m\u001b[0;34m(\u001b[0m\u001b[0mkey\u001b[0m\u001b[0;34m)\u001b[0m\u001b[0;34m\u001b[0m\u001b[0m\n\u001b[0m\u001b[1;32m   2689\u001b[0m \u001b[0;34m\u001b[0m\u001b[0m\n\u001b[1;32m   2690\u001b[0m     \u001b[0;32mdef\u001b[0m \u001b[0m_getitem_column\u001b[0m\u001b[0;34m(\u001b[0m\u001b[0mself\u001b[0m\u001b[0;34m,\u001b[0m \u001b[0mkey\u001b[0m\u001b[0;34m)\u001b[0m\u001b[0;34m:\u001b[0m\u001b[0;34m\u001b[0m\u001b[0m\n",
      "\u001b[0;32m/Users/mahadn04/anaconda2/envs/pfizer_venv/lib/python2.7/site-packages/pandas/core/frame.pyc\u001b[0m in \u001b[0;36m_getitem_column\u001b[0;34m(self, key)\u001b[0m\n\u001b[1;32m   2693\u001b[0m         \u001b[0;31m# get column\u001b[0m\u001b[0;34m\u001b[0m\u001b[0;34m\u001b[0m\u001b[0m\n\u001b[1;32m   2694\u001b[0m         \u001b[0;32mif\u001b[0m \u001b[0mself\u001b[0m\u001b[0;34m.\u001b[0m\u001b[0mcolumns\u001b[0m\u001b[0;34m.\u001b[0m\u001b[0mis_unique\u001b[0m\u001b[0;34m:\u001b[0m\u001b[0;34m\u001b[0m\u001b[0m\n\u001b[0;32m-> 2695\u001b[0;31m             \u001b[0;32mreturn\u001b[0m \u001b[0mself\u001b[0m\u001b[0;34m.\u001b[0m\u001b[0m_get_item_cache\u001b[0m\u001b[0;34m(\u001b[0m\u001b[0mkey\u001b[0m\u001b[0;34m)\u001b[0m\u001b[0;34m\u001b[0m\u001b[0m\n\u001b[0m\u001b[1;32m   2696\u001b[0m \u001b[0;34m\u001b[0m\u001b[0m\n\u001b[1;32m   2697\u001b[0m         \u001b[0;31m# duplicate columns & possible reduce dimensionality\u001b[0m\u001b[0;34m\u001b[0m\u001b[0;34m\u001b[0m\u001b[0m\n",
      "\u001b[0;32m/Users/mahadn04/anaconda2/envs/pfizer_venv/lib/python2.7/site-packages/pandas/core/generic.pyc\u001b[0m in \u001b[0;36m_get_item_cache\u001b[0;34m(self, item)\u001b[0m\n\u001b[1;32m   2487\u001b[0m         \u001b[0mres\u001b[0m \u001b[0;34m=\u001b[0m \u001b[0mcache\u001b[0m\u001b[0;34m.\u001b[0m\u001b[0mget\u001b[0m\u001b[0;34m(\u001b[0m\u001b[0mitem\u001b[0m\u001b[0;34m)\u001b[0m\u001b[0;34m\u001b[0m\u001b[0m\n\u001b[1;32m   2488\u001b[0m         \u001b[0;32mif\u001b[0m \u001b[0mres\u001b[0m \u001b[0;32mis\u001b[0m \u001b[0mNone\u001b[0m\u001b[0;34m:\u001b[0m\u001b[0;34m\u001b[0m\u001b[0m\n\u001b[0;32m-> 2489\u001b[0;31m             \u001b[0mvalues\u001b[0m \u001b[0;34m=\u001b[0m \u001b[0mself\u001b[0m\u001b[0;34m.\u001b[0m\u001b[0m_data\u001b[0m\u001b[0;34m.\u001b[0m\u001b[0mget\u001b[0m\u001b[0;34m(\u001b[0m\u001b[0mitem\u001b[0m\u001b[0;34m)\u001b[0m\u001b[0;34m\u001b[0m\u001b[0m\n\u001b[0m\u001b[1;32m   2490\u001b[0m             \u001b[0mres\u001b[0m \u001b[0;34m=\u001b[0m \u001b[0mself\u001b[0m\u001b[0;34m.\u001b[0m\u001b[0m_box_item_values\u001b[0m\u001b[0;34m(\u001b[0m\u001b[0mitem\u001b[0m\u001b[0;34m,\u001b[0m \u001b[0mvalues\u001b[0m\u001b[0;34m)\u001b[0m\u001b[0;34m\u001b[0m\u001b[0m\n\u001b[1;32m   2491\u001b[0m             \u001b[0mcache\u001b[0m\u001b[0;34m[\u001b[0m\u001b[0mitem\u001b[0m\u001b[0;34m]\u001b[0m \u001b[0;34m=\u001b[0m \u001b[0mres\u001b[0m\u001b[0;34m\u001b[0m\u001b[0m\n",
      "\u001b[0;32m/Users/mahadn04/anaconda2/envs/pfizer_venv/lib/python2.7/site-packages/pandas/core/internals.pyc\u001b[0m in \u001b[0;36mget\u001b[0;34m(self, item, fastpath)\u001b[0m\n\u001b[1;32m   4113\u001b[0m \u001b[0;34m\u001b[0m\u001b[0m\n\u001b[1;32m   4114\u001b[0m             \u001b[0;32mif\u001b[0m \u001b[0;32mnot\u001b[0m \u001b[0misna\u001b[0m\u001b[0;34m(\u001b[0m\u001b[0mitem\u001b[0m\u001b[0;34m)\u001b[0m\u001b[0;34m:\u001b[0m\u001b[0;34m\u001b[0m\u001b[0m\n\u001b[0;32m-> 4115\u001b[0;31m                 \u001b[0mloc\u001b[0m \u001b[0;34m=\u001b[0m \u001b[0mself\u001b[0m\u001b[0;34m.\u001b[0m\u001b[0mitems\u001b[0m\u001b[0;34m.\u001b[0m\u001b[0mget_loc\u001b[0m\u001b[0;34m(\u001b[0m\u001b[0mitem\u001b[0m\u001b[0;34m)\u001b[0m\u001b[0;34m\u001b[0m\u001b[0m\n\u001b[0m\u001b[1;32m   4116\u001b[0m             \u001b[0;32melse\u001b[0m\u001b[0;34m:\u001b[0m\u001b[0;34m\u001b[0m\u001b[0m\n\u001b[1;32m   4117\u001b[0m                 \u001b[0mindexer\u001b[0m \u001b[0;34m=\u001b[0m \u001b[0mnp\u001b[0m\u001b[0;34m.\u001b[0m\u001b[0marange\u001b[0m\u001b[0;34m(\u001b[0m\u001b[0mlen\u001b[0m\u001b[0;34m(\u001b[0m\u001b[0mself\u001b[0m\u001b[0;34m.\u001b[0m\u001b[0mitems\u001b[0m\u001b[0;34m)\u001b[0m\u001b[0;34m)\u001b[0m\u001b[0;34m[\u001b[0m\u001b[0misna\u001b[0m\u001b[0;34m(\u001b[0m\u001b[0mself\u001b[0m\u001b[0;34m.\u001b[0m\u001b[0mitems\u001b[0m\u001b[0;34m)\u001b[0m\u001b[0;34m]\u001b[0m\u001b[0;34m\u001b[0m\u001b[0m\n",
      "\u001b[0;32m/Users/mahadn04/anaconda2/envs/pfizer_venv/lib/python2.7/site-packages/pandas/core/indexes/base.pyc\u001b[0m in \u001b[0;36mget_loc\u001b[0;34m(self, key, method, tolerance)\u001b[0m\n\u001b[1;32m   3078\u001b[0m                 \u001b[0;32mreturn\u001b[0m \u001b[0mself\u001b[0m\u001b[0;34m.\u001b[0m\u001b[0m_engine\u001b[0m\u001b[0;34m.\u001b[0m\u001b[0mget_loc\u001b[0m\u001b[0;34m(\u001b[0m\u001b[0mkey\u001b[0m\u001b[0;34m)\u001b[0m\u001b[0;34m\u001b[0m\u001b[0m\n\u001b[1;32m   3079\u001b[0m             \u001b[0;32mexcept\u001b[0m \u001b[0mKeyError\u001b[0m\u001b[0;34m:\u001b[0m\u001b[0;34m\u001b[0m\u001b[0m\n\u001b[0;32m-> 3080\u001b[0;31m                 \u001b[0;32mreturn\u001b[0m \u001b[0mself\u001b[0m\u001b[0;34m.\u001b[0m\u001b[0m_engine\u001b[0m\u001b[0;34m.\u001b[0m\u001b[0mget_loc\u001b[0m\u001b[0;34m(\u001b[0m\u001b[0mself\u001b[0m\u001b[0;34m.\u001b[0m\u001b[0m_maybe_cast_indexer\u001b[0m\u001b[0;34m(\u001b[0m\u001b[0mkey\u001b[0m\u001b[0;34m)\u001b[0m\u001b[0;34m)\u001b[0m\u001b[0;34m\u001b[0m\u001b[0m\n\u001b[0m\u001b[1;32m   3081\u001b[0m \u001b[0;34m\u001b[0m\u001b[0m\n\u001b[1;32m   3082\u001b[0m         \u001b[0mindexer\u001b[0m \u001b[0;34m=\u001b[0m \u001b[0mself\u001b[0m\u001b[0;34m.\u001b[0m\u001b[0mget_indexer\u001b[0m\u001b[0;34m(\u001b[0m\u001b[0;34m[\u001b[0m\u001b[0mkey\u001b[0m\u001b[0;34m]\u001b[0m\u001b[0;34m,\u001b[0m \u001b[0mmethod\u001b[0m\u001b[0;34m=\u001b[0m\u001b[0mmethod\u001b[0m\u001b[0;34m,\u001b[0m \u001b[0mtolerance\u001b[0m\u001b[0;34m=\u001b[0m\u001b[0mtolerance\u001b[0m\u001b[0;34m)\u001b[0m\u001b[0;34m\u001b[0m\u001b[0m\n",
      "\u001b[0;32mpandas/_libs/index.pyx\u001b[0m in \u001b[0;36mpandas._libs.index.IndexEngine.get_loc\u001b[0;34m()\u001b[0m\n",
      "\u001b[0;32mpandas/_libs/index.pyx\u001b[0m in \u001b[0;36mpandas._libs.index.IndexEngine.get_loc\u001b[0;34m()\u001b[0m\n",
      "\u001b[0;32mpandas/_libs/hashtable_class_helper.pxi\u001b[0m in \u001b[0;36mpandas._libs.hashtable.PyObjectHashTable.get_item\u001b[0;34m()\u001b[0m\n",
      "\u001b[0;32mpandas/_libs/hashtable_class_helper.pxi\u001b[0m in \u001b[0;36mpandas._libs.hashtable.PyObjectHashTable.get_item\u001b[0;34m()\u001b[0m\n",
      "\u001b[0;31mKeyError\u001b[0m: 'PC1_[3.5, 7.5]'"
     ]
    }
   ],
   "source": [
    "from classifiers import resting_tremor_classifier\n",
    "\n",
    "tremor_classifier_feature_set = resting_tremor_classifier.build_rest_tremor_classification_feature_set(raw_data_df, raw_data_sampling_rate)\n",
    "tremor_classifier_feature_set.head()\n"
   ]
  },
  {
   "cell_type": "markdown",
   "metadata": {},
   "source": [
    "# Get hand movement predictions from heuristic hand movement classifier"
   ]
  },
  {
   "cell_type": "code",
   "execution_count": null,
   "metadata": {
    "collapsed": true
   },
   "outputs": [],
   "source": [
    "from classifiers import hand_movement_classifier"
   ]
  },
  {
   "cell_type": "markdown",
   "metadata": {},
   "source": [
    "# Get resting tremor amplitude predictions from heuristic rest tremor amplitude classifier"
   ]
  },
  {
   "cell_type": "code",
   "execution_count": null,
   "metadata": {
    "collapsed": true
   },
   "outputs": [],
   "source": [
    "from classifiers import resting_tremor_amplitude_classifier"
   ]
  },
  {
   "cell_type": "markdown",
   "metadata": {},
   "source": [
    "# Get hand movement features predictions (hand movement amplitude & smoothness of hand movement) "
   ]
  },
  {
   "cell_type": "code",
   "execution_count": 13,
   "metadata": {
    "collapsed": true
   },
   "outputs": [],
   "source": [
    "from classifiers import hand_movement_features"
   ]
  },
  {
   "cell_type": "markdown",
   "metadata": {},
   "source": [
    "# Organize predictions for given data file into one pandas DataFrame"
   ]
  },
  {
   "cell_type": "code",
   "execution_count": 14,
   "metadata": {
    "collapsed": true
   },
   "outputs": [],
   "source": [
    "from endpoints import filter_classifier_predictions"
   ]
  },
  {
   "cell_type": "markdown",
   "metadata": {},
   "source": [
    "# Compute aggregate resting tremor endpoints"
   ]
  },
  {
   "cell_type": "code",
   "execution_count": 15,
   "metadata": {
    "collapsed": true
   },
   "outputs": [],
   "source": [
    "from endpoints import resting_tremor_endpoints"
   ]
  },
  {
   "cell_type": "markdown",
   "metadata": {},
   "source": [
    "# Compute aggregate bradykinesia endpoints"
   ]
  },
  {
   "cell_type": "code",
   "execution_count": 16,
   "metadata": {
    "collapsed": true
   },
   "outputs": [],
   "source": [
    "from endpoints import bradykinesia_endpoints"
   ]
  }
 ],
 "metadata": {
  "kernelspec": {
   "display_name": "Python 2",
   "language": "python",
   "name": "python2"
  },
  "language_info": {
   "codemirror_mode": {
    "name": "ipython",
    "version": 2
   },
   "file_extension": ".py",
   "mimetype": "text/x-python",
   "name": "python",
   "nbconvert_exporter": "python",
   "pygments_lexer": "ipython2",
   "version": "2.7.14"
  }
 },
 "nbformat": 4,
 "nbformat_minor": 1
}
